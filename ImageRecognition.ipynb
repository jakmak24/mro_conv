{
 "cells": [
  {
   "cell_type": "code",
   "execution_count": 1,
   "metadata": {
    "collapsed": true
   },
   "outputs": [],
   "source": [
    "from __future__ import absolute_import\n",
    "from __future__ import division\n",
    "from __future__ import print_function\n",
    "\n",
    "import os.path\n",
    "import re\n",
    "import sys\n",
    "import tarfile\n",
    "\n",
    "import numpy as np\n",
    "from six.moves import urllib\n",
    "import tensorflow as tf\n",
    "\n",
    "DATA_URL = 'http://download.tensorflow.org/models/image/imagenet/inception-2015-12-05.tgz'"
   ]
  },
  {
   "cell_type": "code",
   "execution_count": 9,
   "metadata": {
    "collapsed": true
   },
   "outputs": [],
   "source": [
    "MODEL_DIR = './tmp/imagenet'\n",
    "IMAGE_FILE = 'pobrane.jpg'\n",
    "NUM_TOP_PRED = 5"
   ]
  },
  {
   "cell_type": "code",
   "execution_count": 10,
   "metadata": {
    "collapsed": true
   },
   "outputs": [],
   "source": [
    "class NodeLookup(object):\n",
    "    \"\"\"Converts integer node ID's to human readable labels.\"\"\"\n",
    "\n",
    "    def __init__(self,\n",
    "                 label_lookup_path=None,\n",
    "                 uid_lookup_path=None):\n",
    "        if not label_lookup_path:\n",
    "            label_lookup_path = os.path.join(\n",
    "                MODEL_DIR, 'imagenet_2012_challenge_label_map_proto.pbtxt')\n",
    "        if not uid_lookup_path:\n",
    "            uid_lookup_path = os.path.join(\n",
    "                MODEL_DIR, 'imagenet_synset_to_human_label_map.txt')\n",
    "        self.node_lookup = self.load(label_lookup_path, uid_lookup_path)\n",
    "\n",
    "    def load(self, label_lookup_path, uid_lookup_path):\n",
    "        \"\"\"Loads a human readable English name for each softmax node.\n",
    "\n",
    "        Args:\n",
    "          label_lookup_path: string UID to integer node ID.\n",
    "          uid_lookup_path: string UID to human-readable string.\n",
    "\n",
    "        Returns:\n",
    "          dict from integer node ID to human-readable string.\n",
    "        \"\"\"\n",
    "        if not tf.gfile.Exists(uid_lookup_path):\n",
    "            tf.logging.fatal('File does not exist %s', uid_lookup_path)\n",
    "        if not tf.gfile.Exists(label_lookup_path):\n",
    "            tf.logging.fatal('File does not exist %s', label_lookup_path)\n",
    "\n",
    "        # Loads mapping from string UID to human-readable string\n",
    "        proto_as_ascii_lines = tf.gfile.GFile(uid_lookup_path).readlines()\n",
    "        uid_to_human = {}\n",
    "        p = re.compile(r'[n\\d]*[ \\S,]*')\n",
    "        for line in proto_as_ascii_lines:\n",
    "            parsed_items = p.findall(line)\n",
    "            uid = parsed_items[0]\n",
    "            human_string = parsed_items[2]\n",
    "            uid_to_human[uid] = human_string\n",
    "\n",
    "        # Loads mapping from string UID to integer node ID.\n",
    "        node_id_to_uid = {}\n",
    "        proto_as_ascii = tf.gfile.GFile(label_lookup_path).readlines()\n",
    "        for line in proto_as_ascii:\n",
    "            if line.startswith('  target_class:'):\n",
    "                target_class = int(line.split(': ')[1])\n",
    "            if line.startswith('  target_class_string:'):\n",
    "                target_class_string = line.split(': ')[1]\n",
    "                node_id_to_uid[target_class] = target_class_string[1:-2]\n",
    "\n",
    "        # Loads the final mapping of integer node ID to human-readable string\n",
    "        node_id_to_name = {}\n",
    "        for key, val in node_id_to_uid.items():\n",
    "            if val not in uid_to_human:\n",
    "                tf.logging.fatal('Failed to locate: %s', val)\n",
    "            name = uid_to_human[val]\n",
    "            node_id_to_name[key] = name\n",
    "\n",
    "        return node_id_to_name\n",
    "\n",
    "    def id_to_string(self, node_id):\n",
    "        if node_id not in self.node_lookup:\n",
    "            return ''\n",
    "        return self.node_lookup[node_id]"
   ]
  },
  {
   "cell_type": "code",
   "execution_count": 11,
   "metadata": {
    "collapsed": true
   },
   "outputs": [],
   "source": [
    "def create_graph():\n",
    "    \"\"\"Creates a graph from saved GraphDef file and returns a saver.\"\"\"\n",
    "    # Creates graph from saved graph_def.pb.\n",
    "    with tf.gfile.FastGFile(os.path.join(\n",
    "            MODEL_DIR, 'classify_image_graph_def.pb'), 'rb') as f:\n",
    "        graph_def = tf.GraphDef()\n",
    "        graph_def.ParseFromString(f.read())\n",
    "        _ = tf.import_graph_def(graph_def, name='')"
   ]
  },
  {
   "cell_type": "code",
   "execution_count": 12,
   "metadata": {
    "collapsed": true
   },
   "outputs": [],
   "source": [
    "def run_inference_on_image(image):\n",
    "    \"\"\"Runs inference on an image.\n",
    "\n",
    "    Args:\n",
    "      image: Image file name.\n",
    "\n",
    "    Returns:\n",
    "      Nothing\n",
    "    \"\"\"\n",
    "    if not tf.gfile.Exists(image):\n",
    "        tf.logging.fatal('File does not exist %s', image)\n",
    "    image_data = tf.gfile.FastGFile(image, 'rb').read()\n",
    "\n",
    "    # Creates graph from saved GraphDef.\n",
    "    create_graph()\n",
    "\n",
    "    with tf.Session() as sess:\n",
    "        # Some useful tensors:\n",
    "        # 'softmax:0': A tensor containing the normalized prediction across\n",
    "        #   1000 labels.\n",
    "        # 'pool_3:0': A tensor containing the next-to-last layer containing 2048\n",
    "        #   float description of the image.\n",
    "        # 'DecodeJpeg/contents:0': A tensor containing a string providing JPEG\n",
    "        #   encoding of the image.\n",
    "        # Runs the softmax tensor by feeding the image_data as input to the graph.\n",
    "        softmax_tensor = sess.graph.get_tensor_by_name('softmax:0')\n",
    "        predictions = sess.run(softmax_tensor,\n",
    "                               {'DecodeJpeg/contents:0': image_data})\n",
    "        predictions = np.squeeze(predictions)\n",
    "\n",
    "        # Creates node ID --> English string lookup.\n",
    "        node_lookup = NodeLookup()\n",
    "\n",
    "        top_k = predictions.argsort()[-NUM_TOP_PRED:][::-1]\n",
    "        for node_id in top_k:\n",
    "            human_string = node_lookup.id_to_string(node_id)\n",
    "            score = predictions[node_id]\n",
    "            print('%s (score = %.5f)' % (human_string, score))"
   ]
  },
  {
   "cell_type": "code",
   "execution_count": 13,
   "metadata": {
    "collapsed": true
   },
   "outputs": [],
   "source": [
    "def maybe_download_and_extract():\n",
    "    \"\"\"Download and extract model tar file.\"\"\"\n",
    "    dest_directory = MODEL_DIR\n",
    "    if not os.path.exists(dest_directory):\n",
    "        os.makedirs(dest_directory)\n",
    "    filename = DATA_URL.split('/')[-1]\n",
    "    filepath = os.path.join(dest_directory, filename)\n",
    "    if not os.path.exists(filepath):\n",
    "        def _progress(count, block_size, total_size):\n",
    "            sys.stdout.write('\\r>> Downloading %s %.1f%%' % (\n",
    "                filename, float(count * block_size) / float(total_size) * 100.0))\n",
    "            sys.stdout.flush()\n",
    "\n",
    "        filepath, _ = urllib.request.urlretrieve(DATA_URL, filepath, _progress)\n",
    "        print()\n",
    "        statinfo = os.stat(filepath)\n",
    "        print('Successfully downloaded', filename, statinfo.st_size, 'bytes.')\n",
    "    tarfile.open(filepath, 'r:gz').extractall(dest_directory)"
   ]
  },
  {
   "cell_type": "code",
   "execution_count": 14,
   "metadata": {
    "collapsed": true
   },
   "outputs": [],
   "source": [
    "def main(_):\n",
    "    maybe_download_and_extract()\n",
    "    image = (IMAGE_FILE if IMAGE_FILE else\n",
    "             os.path.join(MODEL_DIR, 'cropped_panda.jpg'))\n",
    "    run_inference_on_image(image)"
   ]
  },
  {
   "cell_type": "code",
   "execution_count": 15,
   "metadata": {},
   "outputs": [
    {
     "name": "stdout",
     "output_type": "stream",
     "text": [
      "proboscis monkey, Nasalis larvatus (score = 0.94279)\n",
      "patas, hussar monkey, Erythrocebus patas (score = 0.00121)\n",
      "langur (score = 0.00089)\n",
      "running shoe (score = 0.00053)\n",
      "titi, titi monkey (score = 0.00038)\n"
     ]
    },
    {
     "ename": "SystemExit",
     "evalue": "",
     "output_type": "error",
     "traceback": [
      "An exception has occurred, use %tb to see the full traceback.\n",
      "\u001b[1;31mSystemExit\u001b[0m\n"
     ]
    },
    {
     "name": "stderr",
     "output_type": "stream",
     "text": [
      "C:\\Users\\User\\Anaconda3\\lib\\site-packages\\IPython\\core\\interactiveshell.py:2870: UserWarning: To exit: use 'exit', 'quit', or Ctrl-D.\n",
      "  warn(\"To exit: use 'exit', 'quit', or Ctrl-D.\", stacklevel=1)\n"
     ]
    }
   ],
   "source": [
    "tf.app.run(main=main)\n"
   ]
  }
 ],
 "metadata": {
  "kernelspec": {
   "display_name": "Python 3",
   "language": "python",
   "name": "python3"
  },
  "language_info": {
   "codemirror_mode": {
    "name": "ipython",
    "version": 3
   },
   "file_extension": ".py",
   "mimetype": "text/x-python",
   "name": "python",
   "nbconvert_exporter": "python",
   "pygments_lexer": "ipython3",
   "version": "3.6.2"
  }
 },
 "nbformat": 4,
 "nbformat_minor": 2
}
